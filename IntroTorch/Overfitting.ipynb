{
  "nbformat": 4,
  "nbformat_minor": 0,
  "metadata": {
    "colab": {
      "name": "Overfitting.ipynb",
      "provenance": [],
      "authorship_tag": "ABX9TyMYt1Cng0rDKLKWJDD+QaSw",
      "include_colab_link": true
    },
    "kernelspec": {
      "name": "python3",
      "display_name": "Python 3"
    }
  },
  "cells": [
    {
      "cell_type": "markdown",
      "metadata": {
        "id": "view-in-github",
        "colab_type": "text"
      },
      "source": [
        "<a href=\"https://colab.research.google.com/github/escape13/deepfried/blob/master/IntroTorch/Overfitting.ipynb\" target=\"_parent\"><img src=\"https://colab.research.google.com/assets/colab-badge.svg\" alt=\"Open In Colab\"/></a>"
      ]
    },
    {
      "cell_type": "markdown",
      "metadata": {
        "id": "rRgqudG8LAM3"
      },
      "source": [
        "## Preparing the dataset"
      ]
    },
    {
      "cell_type": "code",
      "metadata": {
        "id": "dA6Cg29VK9CS"
      },
      "source": [
        "import torch\n",
        "from torch import nn\n",
        "import torch.nn.functional as F\n",
        "import matplotlib.pyplot as plt\n",
        "from torch import optim\n",
        "from torchvision import datasets, transforms"
      ],
      "execution_count": 47,
      "outputs": []
    },
    {
      "cell_type": "code",
      "metadata": {
        "id": "KnciAPSYL3zp"
      },
      "source": [
        "transform = transforms.Compose([transforms.ToTensor(), transforms.Normalize((0.5,), (0.5,), (0.5))])"
      ],
      "execution_count": 48,
      "outputs": []
    },
    {
      "cell_type": "code",
      "metadata": {
        "id": "LmqYlWXzLSIF"
      },
      "source": [
        "trainset = datasets.FashionMNIST('F_MNIST_train/', download=True, train=True, transform=transform)\n",
        "testset = datasets.FashionMNIST('F_MNIST_test/', download=True, train=False, transform=transform)\n",
        "trainloader = torch.utils.data.DataLoader(trainset, batch_size=64, shuffle=True)\n",
        "testloader = torch.utils.data.DataLoader(testset, batch_size=64, shuffle=True)"
      ],
      "execution_count": 49,
      "outputs": []
    },
    {
      "cell_type": "markdown",
      "metadata": {
        "id": "XAbE549vMqPS"
      },
      "source": [
        "## Neural network architecture"
      ]
    },
    {
      "cell_type": "code",
      "metadata": {
        "id": "Xa22GveHMt2D"
      },
      "source": [
        "class Classifier(nn.Module):\n",
        "    def __init__(self):\n",
        "        super().__init__()\n",
        "        \n",
        "        self.h1 = nn.Linear(784, 256)\n",
        "        self.h2 = nn.Linear(256, 128)\n",
        "        self.h3 = nn.Linear(128, 64)\n",
        "        self.h4 = nn.Linear(64, 10)\n",
        "\n",
        "    def forward(self, x):\n",
        "        x = x.view(x.shape[0], -1)\n",
        "        x = F.relu(self.h1(x))\n",
        "        x = F.relu(self.h2(x))\n",
        "        x = F.relu(self.h3(x))\n",
        "        x = F.log_softmax(self.h4(x), dim=1)\n",
        "\n",
        "        return x"
      ],
      "execution_count": 50,
      "outputs": []
    },
    {
      "cell_type": "markdown",
      "metadata": {
        "id": "7p7r5-ExOWsA"
      },
      "source": [
        "## Training the network and storing validation data"
      ]
    },
    {
      "cell_type": "code",
      "metadata": {
        "id": "KKJcbj-SOenE"
      },
      "source": [
        "model = Classifier()\n",
        "criterion = nn.NLLLoss()\n",
        "optimizer = optim.Adam(model.parameters(), lr=0.003)\n",
        "epochs = 30\n",
        "training_loss = []\n",
        "test_loss = []\n",
        "train_size = len(trainloader)\n",
        "test_size = len(testloader)"
      ],
      "execution_count": 51,
      "outputs": []
    },
    {
      "cell_type": "code",
      "metadata": {
        "id": "PW83yTR_PNPw"
      },
      "source": [
        "def train(model):\n",
        "    for e in range(epochs):\n",
        "        running_loss = 0\n",
        "        for images, labels in trainloader:\n",
        "            optimizer.zero_grad()\n",
        "            output = model.forward(images)\n",
        "            loss = criterion(output, labels)\n",
        "            loss.backward()\n",
        "            optimizer.step()\n",
        "            running_loss += loss.item()\n",
        "        else:\n",
        "            training_loss.append(running_loss / train_size)\n",
        "            with torch.no_grad():\n",
        "                model.eval()\n",
        "                tmp = 0\n",
        "                for images, labels in testloader:\n",
        "                    output = model.forward(images)\n",
        "                    tmp += criterion(output, labels).item()\n",
        "                test_loss.append(tmp / test_size)\n",
        "            model.train()"
      ],
      "execution_count": 52,
      "outputs": []
    },
    {
      "cell_type": "code",
      "metadata": {
        "id": "JQfe84jUV11C"
      },
      "source": [
        "train(model)"
      ],
      "execution_count": 53,
      "outputs": []
    },
    {
      "cell_type": "code",
      "metadata": {
        "colab": {
          "base_uri": "https://localhost:8080/",
          "height": 295
        },
        "id": "scfA-JyrYUq6",
        "outputId": "6d7e6460-ee82-4769-e30d-5e10ed4209da"
      },
      "source": [
        "plt.plot(training_loss, label='Training loss')\n",
        "plt.plot(test_loss, label='Validation loss')\n",
        "plt.title('Loss over time')\n",
        "plt.xlabel('epoch')\n",
        "plt.ylabel('loss')\n",
        "plt.legend(frameon=False)\n",
        "plt.savefig('graph1.png', dpi=1200)"
      ],
      "execution_count": 54,
      "outputs": [
        {
          "output_type": "display_data",
          "data": {
            "image/png": "[encoded data removed]",
            "text/plain": [
              "<Figure size 432x288 with 1 Axes>"
            ]
          },
          "metadata": {
            "tags": [],
            "needs_background": "light"
          }
        }
      ]
    },
    {
      "cell_type": "markdown",
      "metadata": {
        "id": "fwV0XzyjajmH"
      },
      "source": [
        "## Solving overfitting with the dropout technique"
      ]
    },
    {
      "cell_type": "code",
      "metadata": {
        "id": "AqhYq4LdaqU2"
      },
      "source": [
        "class Classifier(nn.Module):\n",
        "    def __init__(self):\n",
        "        super().__init__()\n",
        "        \n",
        "        self.h1 = nn.Linear(784, 256)\n",
        "        self.h2 = nn.Linear(256, 128)\n",
        "        self.h3 = nn.Linear(128, 64)\n",
        "        self.h4 = nn.Linear(64, 10)\n",
        "\n",
        "        self.dropout = nn.Dropout(p=0.2)\n",
        "\n",
        "    def forward(self, x):\n",
        "        x = x.view(x.shape[0], -1)\n",
        "\n",
        "        x = self.dropout(F.relu(self.h1(x)))\n",
        "        x = self.dropout(F.relu(self.h2(x)))\n",
        "        x = self.dropout(F.relu(self.h3(x)))\n",
        "\n",
        "        x = F.log_softmax(self.h4(x), dim=1)\n",
        "\n",
        "        return x"
      ],
      "execution_count": 55,
      "outputs": []
    },
    {
      "cell_type": "code",
      "metadata": {
        "id": "QHcyWZLYbD7A"
      },
      "source": [
        "model = Classifier()\n",
        "criterion = nn.NLLLoss()\n",
        "optimizer = optim.Adam(model.parameters(), lr=0.003)\n",
        "training_loss = []\n",
        "test_loss = []"
      ],
      "execution_count": 56,
      "outputs": []
    },
    {
      "cell_type": "code",
      "metadata": {
        "id": "jmI-zYOVbk1B"
      },
      "source": [
        "train(model)"
      ],
      "execution_count": 57,
      "outputs": []
    },
    {
      "cell_type": "code",
      "metadata": {
        "colab": {
          "base_uri": "https://localhost:8080/",
          "height": 295
        },
        "id": "QfDy519_dFro",
        "outputId": "0b1097dd-be72-48b2-d933-95273af54761"
      },
      "source": [
        "plt.plot(training_loss, label='Training loss')\n",
        "plt.plot(test_loss, label='Validation loss')\n",
        "plt.title('Loss over time, using dropout')\n",
        "plt.xlabel('epoch')\n",
        "plt.ylabel('loss')\n",
        "plt.legend(frameon=False)\n",
        "plt.savefig('graph2.png', dpi=1200)"
      ],
      "execution_count": 58,
      "outputs": [
        {
          "output_type": "display_data",
          "data": {
            "image/png": "[encoded data removed]",
            "text/plain": [
              "<Figure size 432x288 with 1 Axes>"
            ]
          },
          "metadata": {
            "tags": [],
            "needs_background": "light"
          }
        }
      ]
    },
    {
      "cell_type": "markdown",
      "metadata": {
        "id": "XeDAZqrrmz80"
      },
      "source": [
        "## Saving training data"
      ]
    },
    {
      "cell_type": "code",
      "metadata": {
        "id": "b_EV7cyFm7Vh"
      },
      "source": [
        "torch.save(model.state_dict(), 'checkpoint.pth')"
      ],
      "execution_count": 63,
      "outputs": []
    }
  ]
}