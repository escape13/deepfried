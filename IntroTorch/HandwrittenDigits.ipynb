{
  "nbformat": 4,
  "nbformat_minor": 0,
  "metadata": {
    "colab": {
      "name": "Untitled0.ipynb",
      "provenance": [],
      "authorship_tag": "ABX9TyPjVTVxDNKz27Q3JGGVzI7k",
      "include_colab_link": true
    },
    "kernelspec": {
      "name": "python3",
      "display_name": "Python 3"
    }
  },
  "cells": [
    {
      "cell_type": "markdown",
      "metadata": {
        "id": "view-in-github",
        "colab_type": "text"
      },
      "source": [
        "<a href=\"https://colab.research.google.com/github/escape13/deepfried/blob/master/IntroTorch/HandwrittenDigits.ipynb\" target=\"_parent\"><img src=\"https://colab.research.google.com/assets/colab-badge.svg\" alt=\"Open In Colab\"/></a>"
      ]
    },
    {
      "cell_type": "code",
      "metadata": {
        "id": "kf9Y6bp42HYV"
      },
      "source": [
        "# import packages\n",
        "\n",
        "%matplotlib inline\n",
        "%config InlineBackend.figure_format = 'retina'\n",
        "\n",
        "import numpy as np\n",
        "import torch\n",
        "import helper\n",
        "import matplotlib.pyplot as plt"
      ],
      "execution_count": 1,
      "outputs": []
    },
    {
      "cell_type": "code",
      "metadata": {
        "id": "0ku48Dxu2MYf"
      },
      "source": [
        "# get handwritten digit MNIST dataset\n",
        "\n",
        "from torchvision import datasets, transforms\n",
        "\n",
        "# converse and normalize dataset\n",
        "transform = transforms.Compose([transforms.ToTensor(), transforms.Normalize((0.5,), (0.5,))])\n",
        "\n",
        "# download dataset\n",
        "trainset = datasets.MNIST('MNIST_data/', download=True, train=True, transform = transform)\n",
        "trainloader = torch.utils.data.DataLoader(trainset, batch_size=64, shuffle=True)"
      ],
      "execution_count": 3,
      "outputs": []
    },
    {
      "cell_type": "code",
      "metadata": {
        "colab": {
          "base_uri": "https://localhost:8080/"
        },
        "id": "ERLqdz0G2Qtx",
        "outputId": "6dc74527-bf8c-45e4-c3b5-cc842bc11aec"
      },
      "source": [
        "dataiter = iter(trainloader)\n",
        "images, labels = dataiter.next()\n",
        "print(type(images))\n",
        "print(images.shape)\n",
        "print(labels.shape)"
      ],
      "execution_count": 9,
      "outputs": [
        {
          "output_type": "stream",
          "text": [
            "<class 'torch.Tensor'>\n",
            "torch.Size([64, 1, 28, 28])\n",
            "torch.Size([64])\n"
          ],
          "name": "stdout"
        }
      ]
    },
    {
      "cell_type": "code",
      "metadata": {
        "colab": {
          "base_uri": "https://localhost:8080/",
          "height": 282
        },
        "id": "aqQFbJQY2TAq",
        "outputId": "cc046a64-0eb5-4391-8e97-c3415a43745c"
      },
      "source": [
        "plt.imshow(images[1].numpy().squeeze(), cmap='gray')"
      ],
      "execution_count": 10,
      "outputs": [
        {
          "output_type": "execute_result",
          "data": {
            "text/plain": [
              "<matplotlib.image.AxesImage at 0x7f0153765550>"
            ]
          },
          "metadata": {
            "tags": []
          },
          "execution_count": 10
        },
        {
          "output_type": "display_data",
          "data": {
            "image/png": "[encoded data removed]",
            "text/plain": [
              "<Figure size 432x288 with 1 Axes>"
            ]
          },
          "metadata": {
            "tags": [],
            "image/png": {
              "width": 251,
              "height": 248
            },
            "needs_background": "light"
          }
        }
      ]
    },
    {
      "cell_type": "code",
      "metadata": {
        "id": "HrlCQSx92foc"
      },
      "source": [
        "features = np.zeros((64, 784))\n",
        "\n",
        "for i in range(images.shape[0]):\n",
        "    features[i] = np.reshape(images[i][0], (1, 784))\n",
        "\n",
        "features = torch.from_numpy(features).float()    "
      ],
      "execution_count": 18,
      "outputs": []
    },
    {
      "cell_type": "code",
      "metadata": {
        "id": "AYFCz7AD2n65"
      },
      "source": [
        "n_input = 784\n",
        "n_hidden = 256\n",
        "n_output = 10"
      ],
      "execution_count": 19,
      "outputs": []
    },
    {
      "cell_type": "code",
      "metadata": {
        "id": "t_7ephDx2qGD"
      },
      "source": [
        "def activation(x):\n",
        "    return 1/(1 + torch.exp(-x))"
      ],
      "execution_count": 20,
      "outputs": []
    },
    {
      "cell_type": "code",
      "metadata": {
        "id": "6tj4yJd42srZ"
      },
      "source": [
        "W1 = torch.randn((n_input, n_hidden))\n",
        "W2 = torch.randn((n_hidden, n_output))\n",
        "B1 = torch.randn((1, n_hidden))\n",
        "B2 = torch.randn((1, n_output))"
      ],
      "execution_count": 21,
      "outputs": []
    },
    {
      "cell_type": "code",
      "metadata": {
        "colab": {
          "base_uri": "https://localhost:8080/"
        },
        "id": "uyhLa7XG2xDC",
        "outputId": "a3c7e4c8-ee29-436f-cecc-57f1d412f3e1"
      },
      "source": [
        "torch.mm(features, W1)"
      ],
      "execution_count": 22,
      "outputs": [
        {
          "output_type": "execute_result",
          "data": {
            "text/plain": [
              "tensor([[-2.7929e+00,  2.9397e+01,  4.6800e+01,  ...,  8.0923e+00,\n",
              "          1.1710e+01, -1.9698e+01],\n",
              "        [-1.0708e+01, -1.0246e+01,  3.3774e+01,  ...,  2.7676e+01,\n",
              "          1.7408e+01, -2.7391e+01],\n",
              "        [-2.5177e+01,  6.0671e+00,  3.9646e+01,  ..., -6.3560e-02,\n",
              "          6.0118e+00, -4.7065e+01],\n",
              "        ...,\n",
              "        [ 1.9397e+01,  3.6830e+01,  5.4031e+01,  ...,  3.4170e+01,\n",
              "          4.1449e+00, -6.8348e+01],\n",
              "        [-1.5743e+01, -6.0658e+00,  4.5175e+01,  ..., -1.1834e+01,\n",
              "          3.2463e+00, -3.7084e+01],\n",
              "        [ 2.0074e+01,  2.8986e+00,  3.7676e+01,  ..., -1.1920e+01,\n",
              "          1.0194e+01, -1.6775e+01]])"
            ]
          },
          "metadata": {
            "tags": []
          },
          "execution_count": 22
        }
      ]
    }
  ]
}