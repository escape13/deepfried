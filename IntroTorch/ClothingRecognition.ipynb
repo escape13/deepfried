{
  "nbformat": 4,
  "nbformat_minor": 0,
  "metadata": {
    "colab": {
      "name": "ClothingRecognition.ipynb",
      "provenance": [],
      "authorship_tag": "ABX9TyMQoUaotOjNzkLp88DB87Aj",
      "include_colab_link": true
    },
    "kernelspec": {
      "name": "python3",
      "display_name": "Python 3"
    }
  },
  "cells": [
    {
      "cell_type": "markdown",
      "metadata": {
        "id": "view-in-github",
        "colab_type": "text"
      },
      "source": [
        "<a href=\"https://colab.research.google.com/github/escape13/deepfried/blob/master/IntroTorch/ClothingRecognition.ipynb\" target=\"_parent\"><img src=\"https://colab.research.google.com/assets/colab-badge.svg\" alt=\"Open In Colab\"/></a>"
      ]
    },
    {
      "cell_type": "code",
      "metadata": {
        "id": "I4VDWim4XH8c"
      },
      "source": [
        "import torch\n",
        "import torch.nn.functional as F\n",
        "from torch import nn\n",
        "from torchvision import datasets, transforms\n",
        "from torch import optim"
      ],
      "execution_count": 6,
      "outputs": []
    },
    {
      "cell_type": "code",
      "metadata": {
        "id": "YmdxdjcSX2_V"
      },
      "source": [
        "transform = transforms.Compose([transforms.ToTensor(), transforms.Normalize((0.5,), (0.5,), (0.5))])\n",
        "trainset = datasets.FashionMNIST('FashionMNIST_data/', download=True, train=True, transform=transform)\n",
        "trainloader = torch.utils.data.DataLoader(trainset, batch_size=64, shuffle=True)"
      ],
      "execution_count": 4,
      "outputs": []
    },
    {
      "cell_type": "code",
      "metadata": {
        "colab": {
          "base_uri": "https://localhost:8080/"
        },
        "id": "HB_DZHO_xfO4",
        "outputId": "e5e8ea24-3801-4bf6-c5d6-cfce81d8b268"
      },
      "source": [
        "images, labels = next(iter(trainloader))\n",
        "\n",
        "model = nn.Sequential(nn.Linear(784, 256),\n",
        "                    nn.ReLU(),\n",
        "                    nn.Linear(256, 128),\n",
        "                    nn.ReLU(),\n",
        "                    nn.Linear(128, 10),\n",
        "                    nn.LogSoftmax())\n",
        "\n",
        "criterion = nn.NLLLoss()\n",
        "\n",
        "optimizer = optim.SGD(model.parameters(), lr=0.025)\n",
        "\n",
        "epochs = 5\n",
        "for e in range(epochs):\n",
        "    running_loss = 0\n",
        "    for images, labels in trainloader:\n",
        "        optimizer.zero_grad()\n",
        "        images = images.view(images.shape[0], -1)\n",
        "        output = model.forward(images)\n",
        "        loss = criterion(output, labels)\n",
        "        loss.backward()\n",
        "        optimizer.step()\n",
        "        running_loss += loss.item()\n",
        "    else:\n",
        "        print(f\"Training loss: {running_loss/len(trainloader)}\")\n"
      ],
      "execution_count": 14,
      "outputs": [
        {
          "output_type": "stream",
          "text": [
            "/usr/local/lib/python3.6/dist-packages/torch/nn/modules/container.py:117: UserWarning: Implicit dimension choice for log_softmax has been deprecated. Change the call to include dim=X as an argument.\n",
            "  input = module(input)\n"
          ],
          "name": "stderr"
        },
        {
          "output_type": "stream",
          "text": [
            "Training loss: 0.7262933598334855\n",
            "Training loss: 0.4644642514365314\n",
            "Training loss: 0.4179143816200909\n",
            "Training loss: 0.387621692232867\n",
            "Training loss: 0.36666655826416095\n"
          ],
          "name": "stdout"
        }
      ]
    },
    {
      "cell_type": "code",
      "metadata": {
        "colab": {
          "base_uri": "https://localhost:8080/",
          "height": 319
        },
        "id": "wgiAqmXZ5FIl",
        "outputId": "d769fe0c-24a3-4303-9234-c2a0d68f51ae"
      },
      "source": [
        "import matplotlib.pyplot as plt\n",
        "\n",
        "images, labels = next(iter(trainloader))\n",
        "img = images[0].view(1, 784)\n",
        "\n",
        "with torch.no_grad():\n",
        "    output = model.forward(img)\n",
        "\n",
        "probs = F.softmax(output, dim=1)\n",
        "\n",
        "plt.subplot(1, 2, 1)\n",
        "plt.imshow(images[0].numpy().squeeze(), cmap='gray')\n",
        "plt.subplot(1, 2, 2)\n",
        "plt.subplots_adjust(wspace=1)\n",
        "names = ['T-shirt/top', 'Trouser', 'Pullover', 'Dress', 'Coat', 'Sandal', 'Shirt', 'Sneaker', 'Bag', 'Ankle boot']\n",
        "plt.barh(names, probs.numpy().squeeze())\n",
        "plt.yticks(range(10))\n",
        "plt.show()"
      ],
      "execution_count": 67,
      "outputs": [
        {
          "output_type": "stream",
          "text": [
            "/usr/local/lib/python3.6/dist-packages/torch/nn/modules/container.py:117: UserWarning: Implicit dimension choice for log_softmax has been deprecated. Change the call to include dim=X as an argument.\n",
            "  input = module(input)\n"
          ],
          "name": "stderr"
        },
        {
          "output_type": "display_data",
          "data": {
            "image/png": "[encoded data removed]",
            "text/plain": [
              "<Figure size 432x288 with 2 Axes>"
            ]
          },
          "metadata": {
            "tags": [],
            "needs_background": "light"
          }
        }
      ]
    }
  ]
}